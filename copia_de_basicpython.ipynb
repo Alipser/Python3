{
  "nbformat": 4,
  "nbformat_minor": 0,
  "metadata": {
    "colab": {
      "provenance": [],
      "toc_visible": true,
      "authorship_tag": "ABX9TyO8fp/wY0EzrkELTe+OIp3W",
      "include_colab_link": true
    },
    "kernelspec": {
      "name": "python3",
      "display_name": "Python 3"
    },
    "language_info": {
      "name": "python"
    }
  },
  "cells": [
    {
      "cell_type": "markdown",
      "metadata": {
        "id": "view-in-github",
        "colab_type": "text"
      },
      "source": [
        "<a href=\"https://colab.research.google.com/github/Alipser/Python3/blob/master/copia_de_basicpython.ipynb\" target=\"_parent\"><img src=\"https://colab.research.google.com/assets/colab-badge.svg\" alt=\"Open In Colab\"/></a>"
      ]
    },
    {
      "cell_type": "markdown",
      "source": [
        "# PYTHON BASICS"
      ],
      "metadata": {
        "id": "sM8o9AqghBrm"
      }
    },
    {
      "cell_type": "code",
      "execution_count": null,
      "metadata": {
        "id": "M9Ds624esmuV"
      },
      "outputs": [],
      "source": [
        "print(\"Hello World\")\n",
        "#This is a Comment\n",
        "\n",
        "\n",
        "\"\"\"\n",
        "This is a multiple line Comment\n",
        "\n",
        "\"\"\""
      ]
    },
    {
      "cell_type": "markdown",
      "source": [
        "Matematical Operations"
      ],
      "metadata": {
        "id": "wVsWT21Dhh1A"
      }
    },
    {
      "cell_type": "code",
      "source": [
        "print( 1 + 1 );    #Adition\n",
        "print( 1 - 1 );    #Substraction\n",
        "print( 3 * 1 );    #Multiplication\n",
        "print( 3 ** 2);    #Exponentiation\n",
        "print(3**(1/2));   #Filling\n",
        "print( 4 / 2);     #Division\n",
        "print( 4.3 // 2);  #Int division\n",
        "print( 4 % 2 );    #Module\n"
      ],
      "metadata": {
        "id": "NTp7lFvIhlrW"
      },
      "execution_count": null,
      "outputs": []
    },
    {
      "cell_type": "markdown",
      "source": [
        "Logical Operations"
      ],
      "metadata": {
        "id": "aCMDV_5IlQeE"
      }
    },
    {
      "cell_type": "code",
      "source": [],
      "metadata": {
        "id": "xHpyWi2-lWjj"
      },
      "execution_count": null,
      "outputs": []
    }
  ]
}