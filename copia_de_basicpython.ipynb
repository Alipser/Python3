{
  "nbformat": 4,
  "nbformat_minor": 0,
  "metadata": {
    "colab": {
      "provenance": [],
      "toc_visible": true,
      "authorship_tag": "ABX9TyOdU4Ocw0E3Gl/clecxrQeX",
      "include_colab_link": true
    },
    "kernelspec": {
      "name": "python3",
      "display_name": "Python 3"
    },
    "language_info": {
      "name": "python"
    }
  },
  "cells": [
    {
      "cell_type": "markdown",
      "metadata": {
        "id": "view-in-github",
        "colab_type": "text"
      },
      "source": [
        "<a href=\"https://colab.research.google.com/github/Alipser/Python3/blob/master/copia_de_basicpython.ipynb\" target=\"_parent\"><img src=\"https://colab.research.google.com/assets/colab-badge.svg\" alt=\"Open In Colab\"/></a>"
      ]
    },
    {
      "cell_type": "markdown",
      "source": [
        "# PYTHON BASICS"
      ],
      "metadata": {
        "id": "sM8o9AqghBrm"
      }
    },
    {
      "cell_type": "code",
      "execution_count": null,
      "metadata": {
        "id": "M9Ds624esmuV"
      },
      "outputs": [],
      "source": [
        "print(\"Hello World\")\n",
        "#This is a Comment\n",
        "\n",
        "\n",
        "\"\"\"\n",
        "This is a multiple line Comment\n",
        "\n",
        "\"\"\""
      ]
    },
    {
      "cell_type": "markdown",
      "source": [
        "Matematical Operations"
      ],
      "metadata": {
        "id": "wVsWT21Dhh1A"
      }
    },
    {
      "cell_type": "code",
      "source": [
        "print( 1 + 1 );    #Adition\n",
        "print( 1 - 1 );    #Substraction\n",
        "print( 3 * 1 );    #Multiplication\n",
        "print( 3 ** 2);    #Exponentiation\n",
        "print(3**(1/2));   #Filling\n",
        "print( 4 / 2);     #Division\n",
        "print( 4.3 // 2);  #Int division\n",
        "print( 4 % 2 );    #Module\n"
      ],
      "metadata": {
        "id": "NTp7lFvIhlrW"
      },
      "execution_count": null,
      "outputs": []
    },
    {
      "cell_type": "markdown",
      "source": [
        "Logical Operations"
      ],
      "metadata": {
        "id": "aCMDV_5IlQeE"
      }
    },
    {
      "cell_type": "code",
      "source": [
        "#BOOLEANOS:\n",
        "  # True\n",
        "  # False"
      ],
      "metadata": {
        "id": "xHpyWi2-lWjj"
      },
      "execution_count": null,
      "outputs": []
    },
    {
      "cell_type": "code",
      "source": [
        "a = True\n",
        "b = False\n",
        "\n",
        "# Equals To Comparation\n",
        "print (a == b) #True\n",
        "print (a == a) #False\n",
        "\n",
        "# Diferent To Comparation\n",
        "print (a != b ) # True\n",
        "\n",
        "# Negation\n",
        "\n",
        "print (not (a == b)) #True\n",
        "print (not(a)== b)   #True\n",
        "#print (a == not b) SyntaxError: invalid syntax\n",
        "\n",
        "# greater or lesser than\n",
        "\n",
        "print ( 8 > 4) # 8 greater than 4\n",
        "print ( 5 < 15) # 5 Lesser than 5\n"
      ],
      "metadata": {
        "colab": {
          "base_uri": "https://localhost:8080/"
        },
        "id": "hiBlIF4LmbD1",
        "outputId": "75e07d7d-de67-4b23-d5e1-33e48a068bc8"
      },
      "execution_count": 13,
      "outputs": [
        {
          "output_type": "stream",
          "name": "stdout",
          "text": [
            "False\n",
            "True\n",
            "True\n",
            "True\n",
            "True\n",
            "True\n",
            "True\n"
          ]
        }
      ]
    },
    {
      "cell_type": "code",
      "source": [],
      "metadata": {
        "id": "HXcAKlfUnTNu"
      },
      "execution_count": null,
      "outputs": []
    }
  ]
}