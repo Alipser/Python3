{
  "nbformat": 4,
  "nbformat_minor": 0,
  "metadata": {
    "colab": {
      "provenance": [],
      "toc_visible": true,
      "authorship_tag": "ABX9TyM0BMDPrUhzjaDKm9dfAxgK",
      "include_colab_link": true
    },
    "kernelspec": {
      "name": "python3",
      "display_name": "Python 3"
    },
    "language_info": {
      "name": "python"
    }
  },
  "cells": [
    {
      "cell_type": "markdown",
      "metadata": {
        "id": "view-in-github",
        "colab_type": "text"
      },
      "source": [
        "<a href=\"https://colab.research.google.com/github/Alipser/Python3/blob/master/copia_de_basicpython.ipynb\" target=\"_parent\"><img src=\"https://colab.research.google.com/assets/colab-badge.svg\" alt=\"Open In Colab\"/></a>"
      ]
    },
    {
      "cell_type": "markdown",
      "source": [
        "# PYTHON BASICS"
      ],
      "metadata": {
        "id": "sM8o9AqghBrm"
      }
    },
    {
      "cell_type": "code",
      "execution_count": 17,
      "metadata": {
        "id": "M9Ds624esmuV",
        "colab": {
          "base_uri": "https://localhost:8080/",
          "height": 53
        },
        "outputId": "22e79931-999e-40ac-b22f-79ffc2229ba0"
      },
      "outputs": [
        {
          "output_type": "stream",
          "name": "stdout",
          "text": [
            "Hello World\n"
          ]
        },
        {
          "output_type": "execute_result",
          "data": {
            "text/plain": [
              "'\\nThis is a multiple line Comment\\n\\n'"
            ],
            "application/vnd.google.colaboratory.intrinsic+json": {
              "type": "string"
            }
          },
          "metadata": {},
          "execution_count": 17
        }
      ],
      "source": [
        "print(\"Hello World\")\n",
        "#This is a Comment\n",
        "\n",
        "\n",
        "\"\"\"\n",
        "This is a multiple line Comment\n",
        "\n",
        "\"\"\""
      ]
    },
    {
      "cell_type": "markdown",
      "source": [
        "Matematical Operations"
      ],
      "metadata": {
        "id": "wVsWT21Dhh1A"
      }
    },
    {
      "cell_type": "code",
      "source": [
        "print( 1 + 1 );    #Adition\n",
        "print( 1 - 1 );    #Substraction\n",
        "print( 3 * 1 );    #Multiplication\n",
        "print( 3 ** 2);    #Exponentiation\n",
        "print(3**(1/2));   #Filling\n",
        "print( 4 / 2);     #Division\n",
        "print( 4.3 // 2);  #Int division\n",
        "print( 4 % 2 );    #Module\n"
      ],
      "metadata": {
        "id": "NTp7lFvIhlrW",
        "colab": {
          "base_uri": "https://localhost:8080/"
        },
        "outputId": "64dd976e-48d6-49a1-8dd4-2d93b7319a31"
      },
      "execution_count": 18,
      "outputs": [
        {
          "output_type": "stream",
          "name": "stdout",
          "text": [
            "2\n",
            "0\n",
            "3\n",
            "9\n",
            "1.7320508075688772\n",
            "2.0\n",
            "2.0\n",
            "0\n"
          ]
        }
      ]
    },
    {
      "cell_type": "markdown",
      "source": [
        "Logical Operations"
      ],
      "metadata": {
        "id": "aCMDV_5IlQeE"
      }
    },
    {
      "cell_type": "code",
      "source": [
        "#BOOLEANOS:\n",
        "  # True\n",
        "  # False"
      ],
      "metadata": {
        "id": "xHpyWi2-lWjj"
      },
      "execution_count": 19,
      "outputs": []
    },
    {
      "cell_type": "code",
      "source": [
        "a = True\n",
        "b = False\n",
        "\n",
        "# Equals To Comparation\n",
        "print (a == b) #True\n",
        "print (a == a) #False\n",
        "\n",
        "# Diferent To Comparation\n",
        "print (a != b ) # True\n",
        "\n",
        "# Negation\n",
        "\n",
        "print (not (a == b)) #True\n",
        "print (not(a)== b)   #True\n",
        "#print (a == not b) SyntaxError: invalid syntax\n",
        "\n",
        "# AND Disjunction\n",
        "print ( 8 > 4 and  a ==False);\n",
        "print ( a  and b );\n",
        "\n",
        "# OR Conjunction\n",
        "\n",
        "print (a or b);\n",
        "\n",
        "\n",
        "# greater or lesser than\n",
        "\n",
        "print ( 8 > 4) # 8 greater than 4\n",
        "print ( 5 < 15) # 5 Lesser than 5\n",
        "\n",
        "\n",
        "\n"
      ],
      "metadata": {
        "id": "hiBlIF4LmbD1",
        "colab": {
          "base_uri": "https://localhost:8080/"
        },
        "outputId": "6626ecac-bd81-41c4-b6c3-a3a7890243a9"
      },
      "execution_count": 20,
      "outputs": [
        {
          "output_type": "stream",
          "name": "stdout",
          "text": [
            "False\n",
            "True\n",
            "True\n",
            "True\n",
            "True\n",
            "False\n",
            "False\n",
            "True\n",
            "True\n",
            "True\n"
          ]
        }
      ]
    },
    {
      "cell_type": "markdown",
      "source": [
        "Natives Data types and Variables  "
      ],
      "metadata": {
        "id": "9bNhvNELmecF"
      }
    },
    {
      "cell_type": "code",
      "source": [
        "var1 = \"HOLA MUNDO\" ; #String\n",
        "var2 = 1;              #Numerical (Int)\n",
        "var3 = 1.3;            #Numerical(Float)\n",
        "var4 = 1+3j;           #Numerical (Complex)\n",
        "var5 = True or False;  #Boolean\n",
        "\n",
        "#Sequence\n",
        "var6 = list();         #Lists []\n",
        "var7 = ();             #Tuple ()\n",
        "var8 = range(5);       #Range from 0 to 5\n",
        "var9 = dict([          #Dict {}\n",
        "    (\"var1\", var1),\n",
        "    (\"var2\", var2)\n",
        "    ])\n",
        "var10 = set([1,1,2,3]) #Set {1,2,3}\n",
        "\n",
        "#How to know data Type\n",
        "print (type(var8))"
      ],
      "metadata": {
        "colab": {
          "base_uri": "https://localhost:8080/"
        },
        "id": "ueEmfWcymkkf",
        "outputId": "8b28dc7d-c7a6-481d-b933-b41d386d8688"
      },
      "execution_count": 21,
      "outputs": [
        {
          "output_type": "stream",
          "name": "stdout",
          "text": [
            "<class 'range'>\n"
          ]
        }
      ]
    },
    {
      "cell_type": "markdown",
      "source": [
        "Parsing Data Types\n"
      ],
      "metadata": {
        "id": "DLM5HfwSsdaA"
      }
    },
    {
      "cell_type": "code",
      "source": [
        "#String to Int and float and complex\n",
        "numero_str = \"123\"\n",
        "numero_int = int(numero_str)\n",
        "numero_float=float(numero_str)\n",
        "numero_complex=complex(numero_str)\n",
        "\n",
        "print(numero_complex)  # Esto imprimirá 123 como un entero\n",
        "\n",
        "#List to set.\n",
        "\n",
        "mi_lista = [1, 2, 2, 3, 4, 4, 5]\n",
        "mi_conjunto = set(mi_lista)\n",
        "\n",
        "#List to dict\n",
        "\n",
        "mi_lista = [(\"a\", 1), (\"b\", 2), (\"c\", 3)]\n",
        "\n",
        "# Usando el constructor dict()\n",
        "mi_diccionario = dict(mi_lista)\n",
        "print(mi_diccionario)\n",
        "\n",
        "#Using a dict to list\n",
        "mi_diccionario = {'a': 1, 'b': 2, 'c': 3}\n",
        "lista_de_tuplas = list(mi_diccionario.items())\n",
        "print(lista_de_tuplas)"
      ],
      "metadata": {
        "colab": {
          "base_uri": "https://localhost:8080/"
        },
        "id": "qmPQteiCsiBS",
        "outputId": "71937cfa-831e-4a92-fdd2-31d5b085b777"
      },
      "execution_count": 22,
      "outputs": [
        {
          "output_type": "stream",
          "name": "stdout",
          "text": [
            "(123+0j)\n",
            "{'a': 1, 'b': 2, 'c': 3}\n",
            "[('a', 1), ('b', 2), ('c', 3)]\n"
          ]
        }
      ]
    },
    {
      "cell_type": "markdown",
      "source": [
        "CONDITIONALS"
      ],
      "metadata": {
        "id": "l4S0FAqUvm-n"
      }
    },
    {
      "cell_type": "code",
      "source": [
        "#Python use indentation to indicate the existence of a block of code.\n",
        "\n",
        "if a==b:\n",
        "  print(\"Hello World\")\n",
        "elif (a>1):\n",
        "  print(\"Pura Suerte\")\n",
        "else:\n",
        "  print(f\"No eran iguales {a}\")\n"
      ],
      "metadata": {
        "colab": {
          "base_uri": "https://localhost:8080/"
        },
        "id": "7GA65ML_vj0m",
        "outputId": "55c3b803-74af-49b8-ff2c-67845d1be71c"
      },
      "execution_count": 28,
      "outputs": [
        {
          "output_type": "stream",
          "name": "stdout",
          "text": [
            "No eran iguales True\n"
          ]
        }
      ]
    },
    {
      "cell_type": "markdown",
      "source": [
        "STRING RELOADED"
      ],
      "metadata": {
        "id": "Q8atzCLyy9qj"
      }
    },
    {
      "cell_type": "code",
      "source": [
        "cadena1 = 'Hola, mundo!'\n",
        "cadena2 = \"¡Python es genial!\"\n",
        "cadena3 = '''\n",
        "Este es un ejemplo\n",
        "de cadena de varias líneas.\n",
        "'''\n",
        "\n",
        "#Indexing String:\n",
        "\n",
        "cadena = \"Python\"\n",
        "primer_caracter = cadena[0]  # \"P\"\n",
        "segundo_caracter = cadena[1]  # \"y\"\n",
        "longitud_cadena = len(cadena)  # len()\n",
        "\n",
        "#Concat two strings\n",
        "cadena1 = \"Hola\"\n",
        "cadena2 = \"mundo\"\n",
        "concatenacion = cadena1 + \" \" + cadena2  # \"Hola mundo\"\n",
        "\n",
        "#Replication\n",
        "\n",
        "cadena = \"Python\"\n",
        "replicada = cadena * 3  # \"PythonPythonPython\"\n",
        "\n",
        "#Slicing strings:\n",
        "cadena = \"Python\"\n",
        "subcadena = cadena[1:4]  # \"yth\"\n",
        "inicio = cadena[:3]  # \"Pyt\"\n",
        "fin = cadena[3:]  # \"hon\"\n",
        "\n",
        "uppercase = cadena.upper(); # upper(): Convierte la cadena a mayúsculas.\n",
        "lowercase = uppercase.lower(); # lower(): Convierte la cadena a minúsculas.\n",
        "\n",
        "stringtostrip = \"    Hola     \"\n",
        "stringstriped = stringtostrip.strip() # strip(): Elimina espacios en blanco al principio y al final de la cadena.\n",
        "replacedstring= stringtostrip.replace(\" \",\"*\") # replace(subcadena1, subcadena2): Reemplaza todas las apariciones de subcadena1 con subcadena2.\n",
        "\n",
        "\n",
        "\n",
        "\n",
        "\n",
        "\n",
        "# split(delimitador): Divide la cadena en una lista de subcadenas utilizando el delimitador especificado.\n",
        "# join(iterable): Combina una lista de cadenas en una sola cadena usando la cadena actual como separador.\n",
        "# find(subcadena): Encuentra la primera aparición de subcadena en la cadena y devuelve su índice.\n",
        "# count(subcadena): Cuenta cuántas veces aparece subcadena en la cadena.\n",
        "# startswith(prefix): Verifica si la cadena comienza con prefix.\n",
        "# endswith(suffix): Verifica si la cadena termina con suffix.\n",
        "# Cadenas f:\n",
        "# Las cadenas f (f-strings) son una característica poderosa que te permite insertar valores de variables directamente en una cadena. Puedes crear una cadena f anteponiendo f o F a la cadena y luego colocar variables entre llaves {} dentro de la cadena.\n",
        "\n",
        "# python\n",
        "# Copy code\n",
        "# nombre = \"Alice\"\n",
        "# edad = 30\n",
        "# cadena_f = f\"Mi nombre es {nombre} y tengo {edad} años.\"\n",
        "# Inmutabilidad de las cadenas:\n",
        "# Las cadenas en Python son inmutables, lo que significa que no puedes modificar una cadena existente. Sin embargo, puedes crear una nueva cadena con las modificaciones deseadas.\n",
        "\n",
        "# python\n",
        "# Copy code\n",
        "# cadena = \"Python\"\n",
        "# # Esto generará un error:\n",
        "# # cadena[0] = \"C\"\n",
        "# Comparación de cadenas:\n",
        "# Puedes comparar cadenas utilizando operadores de comparación como ==, !=, <, >, <= y >=. Las comparaciones son sensibles a mayúsculas y minúsculas.\n",
        "\n",
        "# python\n",
        "# Copy code\n",
        "# cadena1 = \"python\"\n",
        "# cadena2 = \"Python\"\n",
        "# igual = cadena1 == cadena2  # False\n",
        "# Estos son los conceptos básicos sobre las cadenas de texto en Python. Las cadenas son una parte fundamental de la programación y se utilizan en una amplia variedad de aplicaciones, desde procesamiento de texto hasta manipulación de datos.\n",
        "\n",
        "\n",
        "\n",
        "\n",
        "\n"
      ],
      "metadata": {
        "colab": {
          "base_uri": "https://localhost:8080/"
        },
        "id": "j6YSDJkKzAAL",
        "outputId": "f2e564ea-615c-40e7-889a-5a11b222863d"
      },
      "execution_count": 4,
      "outputs": [
        {
          "output_type": "stream",
          "name": "stdout",
          "text": [
            "****Hola*****\n"
          ]
        }
      ]
    }
  ]
}