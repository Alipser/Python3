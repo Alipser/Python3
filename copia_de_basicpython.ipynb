{
  "nbformat": 4,
  "nbformat_minor": 0,
  "metadata": {
    "colab": {
      "provenance": [],
      "toc_visible": true,
      "authorship_tag": "ABX9TyO+/R7JhfBN1FKw+/kplyCy",
      "include_colab_link": true
    },
    "kernelspec": {
      "name": "python3",
      "display_name": "Python 3"
    },
    "language_info": {
      "name": "python"
    }
  },
  "cells": [
    {
      "cell_type": "markdown",
      "metadata": {
        "id": "view-in-github",
        "colab_type": "text"
      },
      "source": [
        "<a href=\"https://colab.research.google.com/github/Alipser/Python3/blob/master/copia_de_basicpython.ipynb\" target=\"_parent\"><img src=\"https://colab.research.google.com/assets/colab-badge.svg\" alt=\"Open In Colab\"/></a>"
      ]
    },
    {
      "cell_type": "markdown",
      "source": [
        "# PYTHON BASICS"
      ],
      "metadata": {
        "id": "sM8o9AqghBrm"
      }
    },
    {
      "cell_type": "code",
      "execution_count": null,
      "metadata": {
        "id": "M9Ds624esmuV"
      },
      "outputs": [],
      "source": [
        "print(\"Hello World\")\n",
        "#This is a Comment\n",
        "\n",
        "\n",
        "\"\"\"\n",
        "This is a multiple line Comment\n",
        "\n",
        "\"\"\""
      ]
    },
    {
      "cell_type": "markdown",
      "source": [
        "Matematical Operations"
      ],
      "metadata": {
        "id": "wVsWT21Dhh1A"
      }
    },
    {
      "cell_type": "code",
      "source": [
        "print( 1 + 1 );    #Adition\n",
        "print( 1 - 1 );    #Substraction\n",
        "print( 3 * 1 );    #Multiplication\n",
        "print( 3 ** 2);    #Exponentiation\n",
        "print(3**(1/2));   #Filling\n",
        "print( 4 / 2);     #Division\n",
        "print( 4.3 // 2);  #Int division\n",
        "print( 4 % 2 );    #Module\n"
      ],
      "metadata": {
        "id": "NTp7lFvIhlrW"
      },
      "execution_count": null,
      "outputs": []
    },
    {
      "cell_type": "markdown",
      "source": [
        "Logical Operations"
      ],
      "metadata": {
        "id": "aCMDV_5IlQeE"
      }
    },
    {
      "cell_type": "code",
      "source": [
        "#BOOLEANOS:\n",
        "  # True\n",
        "  # False"
      ],
      "metadata": {
        "id": "xHpyWi2-lWjj"
      },
      "execution_count": null,
      "outputs": []
    },
    {
      "cell_type": "code",
      "source": [
        "a = True\n",
        "b = False\n",
        "\n",
        "# Equals To Comparation\n",
        "print (a == b) #True\n",
        "print (a == a) #False\n",
        "\n",
        "# Diferent To Comparation\n",
        "print (a != b ) # True\n",
        "\n",
        "# Negation\n",
        "\n",
        "print (not (a == b)) #True\n",
        "print (not(a)== b)   #True\n",
        "#print (a == not b) SyntaxError: invalid syntax\n",
        "\n",
        "# AND Disjunction\n",
        "print ( 8 > 4 and  a ==False);\n",
        "print ( a  and b );\n",
        "\n",
        "# OR Conjunction\n",
        "\n",
        "print (a or b);\n",
        "\n",
        "\n",
        "# greater or lesser than\n",
        "\n",
        "print ( 8 > 4) # 8 greater than 4\n",
        "print ( 5 < 15) # 5 Lesser than 5\n",
        "\n",
        "\n",
        "\n"
      ],
      "metadata": {
        "id": "hiBlIF4LmbD1"
      },
      "execution_count": null,
      "outputs": []
    },
    {
      "cell_type": "markdown",
      "source": [
        "Variables and Data types"
      ],
      "metadata": {
        "id": "9bNhvNELmecF"
      }
    },
    {
      "cell_type": "code",
      "source": [
        "var1 = \"HOLA MUNDO\" ; #String\n",
        "var2 = 1;              #Numerical (Int)\n",
        "var3 = 1.3;            #Numerical(Float)\n",
        "var4 = 1+3j;           #Numerical (Complex)\n",
        "var5 = True or False;  #Boolean\n",
        "\n",
        "#Sequence\n",
        "var6 = list();         #Lists []\n",
        "var7 = ();             #Tuple ()\n",
        "var8 = range(5);       #Range from 0 to 5\n",
        "var9 = dict([          #Dict {}\n",
        "    (\"var1\", var1),\n",
        "    (\"var2\", var2)\n",
        "    ])\n",
        "var10 = set([1,1,2,3]) #Set {1,2,3}\n",
        "\n",
        "print (var10)"
      ],
      "metadata": {
        "colab": {
          "base_uri": "https://localhost:8080/"
        },
        "id": "ueEmfWcymkkf",
        "outputId": "8cb560da-cc01-43e4-9259-089978eca5cf"
      },
      "execution_count": 4,
      "outputs": [
        {
          "output_type": "stream",
          "name": "stdout",
          "text": [
            "{1, 2, 3}\n"
          ]
        }
      ]
    }
  ]
}